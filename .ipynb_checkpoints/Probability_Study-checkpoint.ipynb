{
 "cells": [
  {
   "cell_type": "code",
   "execution_count": 1,
   "metadata": {},
   "outputs": [
    {
     "ename": "SyntaxError",
     "evalue": "cannot assign to operator (models.py, line 35)",
     "output_type": "error",
     "traceback": [
      "Traceback \u001b[0;36m(most recent call last)\u001b[0m:\n",
      "  File \u001b[1;32m\"/private/var/containers/Bundle/Application/3E74568A-5181-4103-B5EA-A099FAC95459/Carnets-sci.app/Library/lib/python3.9/site-packages/IPython/core/interactiveshell.py\"\u001b[0m, line \u001b[1;32m3483\u001b[0m, in \u001b[1;35mrun_code\u001b[0m\n    exec(code_obj, self.user_global_ns, self.user_ns)\n",
      "  File \u001b[1;32m\"/private/var/mobile/Containers/Data/Application/82333DF3-6E09-4AF0-8C7B-8020B833F6E4/tmp/ipykernel_15687/2582834435.py\"\u001b[0m, line \u001b[1;32m5\u001b[0m, in \u001b[1;35m<module>\u001b[0m\n    import modes\n",
      "\u001b[0;36m  File \u001b[0;32m\"/private/var/mobile/Containers/Data/Application/82333DF3-6E09-4AF0-8C7B-8020B833F6E4/tmp/NSIRD_Carnets-sci_jYX2Oz/Coupled-Oscillator-Analyzer/modes.py\"\u001b[0;36m, line \u001b[0;32m5\u001b[0;36m, in \u001b[0;35m<module>\u001b[0;36m\u001b[0m\n\u001b[0;31m    import models as mod\u001b[0m\n",
      "\u001b[0;36m  File \u001b[0;32m\"/private/var/mobile/Containers/Data/Application/82333DF3-6E09-4AF0-8C7B-8020B833F6E4/tmp/NSIRD_Carnets-sci_jYX2Oz/Coupled-Oscillator-Analyzer/models.py\"\u001b[0;36m, line \u001b[0;32m35\u001b[0m\n\u001b[0;31m    -diff = diff1.shift(-1) - diff1\u001b[0m\n\u001b[0m    ^\u001b[0m\n\u001b[0;31mSyntaxError\u001b[0m\u001b[0;31m:\u001b[0m cannot assign to operator\n"
     ]
    }
   ],
   "source": [
    "import pandas as pd\n",
    "import matplotlib.pyplot as plt\n",
    "import statsmodels.api as sm\n",
    "from datetime import timedelta as de\n",
    "import modes\n",
    "import numpy as np\n",
    "\n",
    "pd.plotting.register_matplotlib_converters()"
   ]
  },
  {
   "cell_type": "code",
   "execution_count": 21,
   "metadata": {},
   "outputs": [
    {
     "name": "stdout",
     "output_type": "stream",
     "text": [
      "\t- Starting dump...\n",
      "\n",
      "\t- Starting point system order:3...\n",
      "\n",
      "\t- Starting DDM...\n",
      "\n",
      "\t- Starting nonlinear processing...\n",
      "\n",
      "\t- Dump complete...\n"
     ]
    }
   ],
   "source": [
    "asset = 'ETH-USD'\n",
    "hrm='even'\n",
    "interval='1minute'\n",
    "F=368896\n",
    "mode='dump'\n",
    "obv=['v','c']\n",
    "m=1\n",
    "\n",
    "df  = pd.read_csv('test_data.csv')\n",
    "df.dt=pd.to_datetime(df.dt,format='%Y-%m-%d %H:%M:%S')\n",
    "df.set_index('dt',drop=True,inplace=True)\n",
    "\n",
    "idx=df.index[0]+de(days=30*1)\n",
    "\n",
    "data = modes.dump(data=df.loc[:idx],asset='ETH-USD',hrm='even',m=1,F=368896)"
   ]
  },
  {
   "cell_type": "code",
   "execution_count": 22,
   "metadata": {},
   "outputs": [
    {
     "data": {
      "text/html": [
       "<div>\n",
       "<style scoped>\n",
       "    .dataframe tbody tr th:only-of-type {\n",
       "        vertical-align: middle;\n",
       "    }\n",
       "\n",
       "    .dataframe tbody tr th {\n",
       "        vertical-align: top;\n",
       "    }\n",
       "\n",
       "    .dataframe thead th {\n",
       "        text-align: right;\n",
       "    }\n",
       "</style>\n",
       "<table border=\"1\" class=\"dataframe\">\n",
       "  <thead>\n",
       "    <tr style=\"text-align: right;\">\n",
       "      <th></th>\n",
       "      <th>v</th>\n",
       "      <th>x1</th>\n",
       "      <th>dotx1</th>\n",
       "      <th>ddotx1</th>\n",
       "      <th>xg1</th>\n",
       "      <th>xp1</th>\n",
       "      <th>ma1</th>\n",
       "      <th>ft1</th>\n",
       "      <th>ff1</th>\n",
       "      <th>te1</th>\n",
       "      <th>...</th>\n",
       "      <th>Pwm</th>\n",
       "      <th>Pwa</th>\n",
       "      <th>Pwt</th>\n",
       "      <th>Wkm</th>\n",
       "      <th>Wka</th>\n",
       "      <th>Wkt</th>\n",
       "      <th>Thd</th>\n",
       "      <th>Spd</th>\n",
       "      <th>pctchg</th>\n",
       "      <th>logret</th>\n",
       "    </tr>\n",
       "  </thead>\n",
       "  <tbody>\n",
       "    <tr>\n",
       "      <th>count</th>\n",
       "      <td>43192.000000</td>\n",
       "      <td>43192.000000</td>\n",
       "      <td>43192.000000</td>\n",
       "      <td>43192.000000</td>\n",
       "      <td>43192.000000</td>\n",
       "      <td>43192.000000</td>\n",
       "      <td>4.319200e+04</td>\n",
       "      <td>4.319200e+04</td>\n",
       "      <td>43192.000000</td>\n",
       "      <td>4.319200e+04</td>\n",
       "      <td>...</td>\n",
       "      <td>4.319200e+04</td>\n",
       "      <td>43192.000000</td>\n",
       "      <td>4.319200e+04</td>\n",
       "      <td>4.319200e+04</td>\n",
       "      <td>4.319200e+04</td>\n",
       "      <td>4.319200e+04</td>\n",
       "      <td>4.319200e+04</td>\n",
       "      <td>4.319200e+04</td>\n",
       "      <td>43192.000000</td>\n",
       "      <td>43192.000000</td>\n",
       "    </tr>\n",
       "    <tr>\n",
       "      <th>mean</th>\n",
       "      <td>152.248568</td>\n",
       "      <td>-0.007673</td>\n",
       "      <td>0.007169</td>\n",
       "      <td>0.001601</td>\n",
       "      <td>-0.000026</td>\n",
       "      <td>-0.007647</td>\n",
       "      <td>2.256659e+03</td>\n",
       "      <td>2.100923e+03</td>\n",
       "      <td>-155.736205</td>\n",
       "      <td>2.963119e+05</td>\n",
       "      <td>...</td>\n",
       "      <td>2.742251e+05</td>\n",
       "      <td>0.033343</td>\n",
       "      <td>-4.162045e+01</td>\n",
       "      <td>2.073881e+05</td>\n",
       "      <td>3.068830e-03</td>\n",
       "      <td>2.164873e+03</td>\n",
       "      <td>-9.758466e+01</td>\n",
       "      <td>7.273552e-05</td>\n",
       "      <td>0.000005</td>\n",
       "      <td>0.000004</td>\n",
       "    </tr>\n",
       "    <tr>\n",
       "      <th>std</th>\n",
       "      <td>281.426142</td>\n",
       "      <td>255.037173</td>\n",
       "      <td>422.869535</td>\n",
       "      <td>187.879263</td>\n",
       "      <td>4.425346</td>\n",
       "      <td>254.998853</td>\n",
       "      <td>3.276191e+04</td>\n",
       "      <td>3.275651e+04</td>\n",
       "      <td>1112.976828</td>\n",
       "      <td>3.061840e+06</td>\n",
       "      <td>...</td>\n",
       "      <td>2.903335e+06</td>\n",
       "      <td>2.083277</td>\n",
       "      <td>2.075369e+06</td>\n",
       "      <td>2.495318e+06</td>\n",
       "      <td>1.481710e+00</td>\n",
       "      <td>1.562089e+06</td>\n",
       "      <td>1.950326e+04</td>\n",
       "      <td>2.669013e+00</td>\n",
       "      <td>0.001352</td>\n",
       "      <td>0.001353</td>\n",
       "    </tr>\n",
       "    <tr>\n",
       "      <th>min</th>\n",
       "      <td>0.080000</td>\n",
       "      <td>-6122.512000</td>\n",
       "      <td>-13886.531000</td>\n",
       "      <td>-5220.451500</td>\n",
       "      <td>-9.706035</td>\n",
       "      <td>-6113.688665</td>\n",
       "      <td>-5.543669e+03</td>\n",
       "      <td>-1.632943e+04</td>\n",
       "      <td>-35586.485041</td>\n",
       "      <td>0.000000e+00</td>\n",
       "      <td>...</td>\n",
       "      <td>0.000000e+00</td>\n",
       "      <td>-3.141593</td>\n",
       "      <td>-1.760686e+08</td>\n",
       "      <td>0.000000e+00</td>\n",
       "      <td>-3.141592e+00</td>\n",
       "      <td>-1.297325e+08</td>\n",
       "      <td>-2.897723e+06</td>\n",
       "      <td>-6.226892e+00</td>\n",
       "      <td>-0.039566</td>\n",
       "      <td>-0.040370</td>\n",
       "    </tr>\n",
       "    <tr>\n",
       "      <th>25%</th>\n",
       "      <td>30.808500</td>\n",
       "      <td>-49.451250</td>\n",
       "      <td>-75.363250</td>\n",
       "      <td>-40.173000</td>\n",
       "      <td>-3.409143</td>\n",
       "      <td>-49.744121</td>\n",
       "      <td>5.204057e+00</td>\n",
       "      <td>-8.861720e+00</td>\n",
       "      <td>-306.633873</td>\n",
       "      <td>3.642123e+03</td>\n",
       "      <td>...</td>\n",
       "      <td>2.410750e+03</td>\n",
       "      <td>-0.019946</td>\n",
       "      <td>-6.999254e+03</td>\n",
       "      <td>1.313137e+03</td>\n",
       "      <td>-2.719743e-03</td>\n",
       "      <td>-3.913088e+03</td>\n",
       "      <td>-5.208905e+01</td>\n",
       "      <td>-2.162464e+00</td>\n",
       "      <td>-0.000570</td>\n",
       "      <td>-0.000570</td>\n",
       "    </tr>\n",
       "    <tr>\n",
       "      <th>50%</th>\n",
       "      <td>72.830000</td>\n",
       "      <td>-0.823500</td>\n",
       "      <td>14.021000</td>\n",
       "      <td>0.866250</td>\n",
       "      <td>-0.003309</td>\n",
       "      <td>-0.793293</td>\n",
       "      <td>1.472711e+02</td>\n",
       "      <td>1.114913e+02</td>\n",
       "      <td>-54.124338</td>\n",
       "      <td>1.713907e+04</td>\n",
       "      <td>...</td>\n",
       "      <td>1.308695e+04</td>\n",
       "      <td>0.000040</td>\n",
       "      <td>-8.460128e+00</td>\n",
       "      <td>7.682902e+03</td>\n",
       "      <td>-3.956653e-07</td>\n",
       "      <td>1.132033e+00</td>\n",
       "      <td>0.000000e+00</td>\n",
       "      <td>2.220446e-16</td>\n",
       "      <td>0.000000</td>\n",
       "      <td>0.000000</td>\n",
       "    </tr>\n",
       "    <tr>\n",
       "      <th>75%</th>\n",
       "      <td>164.173500</td>\n",
       "      <td>46.997750</td>\n",
       "      <td>102.961250</td>\n",
       "      <td>42.340000</td>\n",
       "      <td>3.430877</td>\n",
       "      <td>47.113908</td>\n",
       "      <td>6.584324e+02</td>\n",
       "      <td>5.499940e+02</td>\n",
       "      <td>119.864908</td>\n",
       "      <td>8.650693e+04</td>\n",
       "      <td>...</td>\n",
       "      <td>7.066132e+04</td>\n",
       "      <td>0.029169</td>\n",
       "      <td>6.398792e+03</td>\n",
       "      <td>4.426583e+04</td>\n",
       "      <td>2.743465e-03</td>\n",
       "      <td>4.007576e+03</td>\n",
       "      <td>5.262381e+01</td>\n",
       "      <td>2.162464e+00</td>\n",
       "      <td>0.000581</td>\n",
       "      <td>0.000581</td>\n",
       "    </tr>\n",
       "    <tr>\n",
       "      <th>max</th>\n",
       "      <td>10186.887000</td>\n",
       "      <td>7764.019000</td>\n",
       "      <td>7923.384000</td>\n",
       "      <td>4888.983500</td>\n",
       "      <td>9.640299</td>\n",
       "      <td>7757.100162</td>\n",
       "      <td>3.313268e+06</td>\n",
       "      <td>3.314722e+06</td>\n",
       "      <td>25900.154152</td>\n",
       "      <td>2.525099e+08</td>\n",
       "      <td>...</td>\n",
       "      <td>1.890781e+08</td>\n",
       "      <td>3.141593</td>\n",
       "      <td>1.867975e+08</td>\n",
       "      <td>1.963861e+08</td>\n",
       "      <td>3.141590e+00</td>\n",
       "      <td>1.066485e+08</td>\n",
       "      <td>8.324926e+05</td>\n",
       "      <td>6.283185e+00</td>\n",
       "      <td>0.026766</td>\n",
       "      <td>0.026414</td>\n",
       "    </tr>\n",
       "  </tbody>\n",
       "</table>\n",
       "<p>8 rows × 71 columns</p>\n",
       "</div>"
      ],
      "text/plain": [
       "                  v            x1         dotx1        ddotx1           xg1  \\\n",
       "count  43192.000000  43192.000000  43192.000000  43192.000000  43192.000000   \n",
       "mean     152.248568     -0.007673      0.007169      0.001601     -0.000026   \n",
       "std      281.426142    255.037173    422.869535    187.879263      4.425346   \n",
       "min        0.080000  -6122.512000 -13886.531000  -5220.451500     -9.706035   \n",
       "25%       30.808500    -49.451250    -75.363250    -40.173000     -3.409143   \n",
       "50%       72.830000     -0.823500     14.021000      0.866250     -0.003309   \n",
       "75%      164.173500     46.997750    102.961250     42.340000      3.430877   \n",
       "max    10186.887000   7764.019000   7923.384000   4888.983500      9.640299   \n",
       "\n",
       "                xp1           ma1           ft1           ff1           te1  \\\n",
       "count  43192.000000  4.319200e+04  4.319200e+04  43192.000000  4.319200e+04   \n",
       "mean      -0.007647  2.256659e+03  2.100923e+03   -155.736205  2.963119e+05   \n",
       "std      254.998853  3.276191e+04  3.275651e+04   1112.976828  3.061840e+06   \n",
       "min    -6113.688665 -5.543669e+03 -1.632943e+04 -35586.485041  0.000000e+00   \n",
       "25%      -49.744121  5.204057e+00 -8.861720e+00   -306.633873  3.642123e+03   \n",
       "50%       -0.793293  1.472711e+02  1.114913e+02    -54.124338  1.713907e+04   \n",
       "75%       47.113908  6.584324e+02  5.499940e+02    119.864908  8.650693e+04   \n",
       "max     7757.100162  3.313268e+06  3.314722e+06  25900.154152  2.525099e+08   \n",
       "\n",
       "       ...           Pwm           Pwa           Pwt           Wkm  \\\n",
       "count  ...  4.319200e+04  43192.000000  4.319200e+04  4.319200e+04   \n",
       "mean   ...  2.742251e+05      0.033343 -4.162045e+01  2.073881e+05   \n",
       "std    ...  2.903335e+06      2.083277  2.075369e+06  2.495318e+06   \n",
       "min    ...  0.000000e+00     -3.141593 -1.760686e+08  0.000000e+00   \n",
       "25%    ...  2.410750e+03     -0.019946 -6.999254e+03  1.313137e+03   \n",
       "50%    ...  1.308695e+04      0.000040 -8.460128e+00  7.682902e+03   \n",
       "75%    ...  7.066132e+04      0.029169  6.398792e+03  4.426583e+04   \n",
       "max    ...  1.890781e+08      3.141593  1.867975e+08  1.963861e+08   \n",
       "\n",
       "                Wka           Wkt           Thd           Spd        pctchg  \\\n",
       "count  4.319200e+04  4.319200e+04  4.319200e+04  4.319200e+04  43192.000000   \n",
       "mean   3.068830e-03  2.164873e+03 -9.758466e+01  7.273552e-05      0.000005   \n",
       "std    1.481710e+00  1.562089e+06  1.950326e+04  2.669013e+00      0.001352   \n",
       "min   -3.141592e+00 -1.297325e+08 -2.897723e+06 -6.226892e+00     -0.039566   \n",
       "25%   -2.719743e-03 -3.913088e+03 -5.208905e+01 -2.162464e+00     -0.000570   \n",
       "50%   -3.956653e-07  1.132033e+00  0.000000e+00  2.220446e-16      0.000000   \n",
       "75%    2.743465e-03  4.007576e+03  5.262381e+01  2.162464e+00      0.000581   \n",
       "max    3.141590e+00  1.066485e+08  8.324926e+05  6.283185e+00      0.026766   \n",
       "\n",
       "             logret  \n",
       "count  43192.000000  \n",
       "mean       0.000004  \n",
       "std        0.001353  \n",
       "min       -0.040370  \n",
       "25%       -0.000570  \n",
       "50%        0.000000  \n",
       "75%        0.000581  \n",
       "max        0.026414  \n",
       "\n",
       "[8 rows x 71 columns]"
      ]
     },
     "execution_count": 22,
     "metadata": {},
     "output_type": "execute_result"
    }
   ],
   "source": [
    "data.describe()"
   ]
  },
  {
   "cell_type": "code",
   "execution_count": 23,
   "metadata": {},
   "outputs": [
    {
     "data": {
      "text/plain": [
       "array(['v', 'x1', 'dotx1', 'ddotx1', 'xg1', 'xp1', 'ma1', 'ft1', 'ff1',\n",
       "       'te1', 'ed1', 'pe1', 'ke1', 'wrk1', 'pwr1', 'w1o', 'w1', 'a1',\n",
       "       'k1', 'dr1', 'zeta1', 'q1', 'rf1', 'thd1', 'c', 'x2', 'dotx2',\n",
       "       'ddotx2', 'xg2', 'xp2', 'ma2', 'ft2', 'ff2', 'te2', 'ed2', 'pe2',\n",
       "       'ke2', 'wrk2', 'pwr2', 'w2o', 'w2', 'a2', 'k2', 'dr2', 'zeta2',\n",
       "       'q2', 'rf2', 'thd2', 'Pe', 'Ke', 'He', 'Le', 'Mam', 'Maa', 'Mat',\n",
       "       'Ftm', 'Fta', 'Ftt', 'Ffm', 'Ffa', 'Fft', 'Pwm', 'Pwa', 'Pwt',\n",
       "       'Wkm', 'Wka', 'Wkt', 'Thd', 'Spd', 'pctchg', 'logret'],\n",
       "      dtype=object)"
      ]
     },
     "execution_count": 23,
     "metadata": {},
     "output_type": "execute_result"
    }
   ],
   "source": [
    "data.columns.values"
   ]
  },
  {
   "cell_type": "code",
   "execution_count": 24,
   "metadata": {},
   "outputs": [],
   "source": [
    "sys = data.loc[:,'Pe':'Spd']\n",
    "sig1 = data.iloc[:,data.columns.get_loc('v'):data.columns.get_loc('c')]\n",
    "sig2 = data.iloc[:,data.columns.get_loc('c'):data.columns.get_loc('Pe')]\n",
    "\n",
    "tot = sys.join(sig1,lsuffix='_caller',rsuffix='_other').join(sig2,lsuffix='_caller',rsuffix='_other')"
   ]
  },
  {
   "cell_type": "code",
   "execution_count": 25,
   "metadata": {},
   "outputs": [
    {
     "data": {
      "image/png": "[encoded data removed]",
      "text/plain": [
       "<Figure size 432x288 with 1 Axes>"
      ]
     },
     "metadata": {},
     "output_type": "display_data"
    }
   ],
   "source": [
    "plt.scatter(data.x1,data.x2)\n",
    "plt.show()"
   ]
  },
  {
   "cell_type": "markdown",
   "metadata": {},
   "source": [
    "### Position Override"
   ]
  },
  {
   "cell_type": "code",
   "execution_count": 36,
   "metadata": {},
   "outputs": [
    {
     "data": {
      "text/plain": [
       "array([<AxesSubplot:>, <AxesSubplot:>, <AxesSubplot:>, <AxesSubplot:>,\n",
       "       <AxesSubplot:>, <AxesSubplot:>], dtype=object)"
      ]
     },
     "execution_count": 36,
     "metadata": {},
     "output_type": "execute_result"
    },
    {
     "data": {
      "image/png": "[encoded data removed]",
      "text/plain": [
       "<Figure size 432x288 with 6 Axes>"
      ]
     },
     "metadata": {},
     "output_type": "display_data"
    }
   ],
   "source": [
    "pd.DataFrame({'c':data.c\n",
    "            ,'c1':data.logret\n",
    "            ,'ch5':data.logret.rolling(window=5).sum()\n",
    "            ,'ch10':data.logret.rolling(window=10).sum()\n",
    "            ,'ch30':data.logret.rolling(window=30).sum()\n",
    "            ,'ch60':data.logret.rolling(window=60).sum()\n",
    "})[:200].plot(subplots=True)"
   ]
  },
  {
   "cell_type": "code",
   "execution_count": 35,
   "metadata": {},
   "outputs": [
    {
     "data": {
      "text/plain": [
       "count    43192.000000\n",
       "mean         0.000005\n",
       "std          0.001352\n",
       "min         -0.039566\n",
       "25%         -0.000570\n",
       "50%          0.000000\n",
       "75%          0.000581\n",
       "max          0.026766\n",
       "Name: pctchg, dtype: float64"
      ]
     },
     "execution_count": 35,
     "metadata": {},
     "output_type": "execute_result"
    }
   ],
   "source": [
    "data.pctchg.describe()"
   ]
  },
  {
   "cell_type": "markdown",
   "metadata": {},
   "source": [
    "### PREPROCESSING"
   ]
  },
  {
   "cell_type": "code",
   "execution_count": null,
   "metadata": {},
   "outputs": [],
   "source": [
    "from sklearn.model_selection import TimeSeriesSplit\n",
    "from sklearn.preprocessing import MinMaxScaler\n",
    "# from sklearn.feature_selection import VarianceThreshold\n",
    "from sklearn.neural_network import MLPClassifier\n",
    "from sklearn.metrics import confusion_matrix\n",
    "from sklearn.feature_selection import VarianceThreshold\n",
    "from sklearn.metrics import zero_one_loss, accuracy_score, precision_score, mean_absolute_error, mean_squared_error,roc_auc_score, explained_variance_score\n",
    "\n",
    "\n",
    "scale = MinMaxScaler(feature_range=(-1,1),copy=False)\n",
    "\n",
    "varthr = tot.var().describe()['25%']\n",
    "\n",
    "vtr = VarianceThreshold()\n",
    "\n",
    "Xv = vtr.fit_transform(tot)\n",
    "\n",
    "tscv = TimeSeriesSplit(n_splits=5)\n",
    "\n",
    "X1 = np.array(sig1)\n",
    "X2 = np.array(sig2)\n",
    "Xs = Xv\n",
    "\n",
    "X = np.float32(Xs)\n",
    "Y = np.array(np.float32(posi[['pos']]))\n",
    "\n",
    "for train_index, test_index in tscv.split(X):\n",
    "    s = train_index\n",
    "    t = test_index\n",
    "\n",
    "xtrsc=scale.fit_transform(X[s])\n",
    "xtesc=scale.fit_transform(X[t])\n",
    "    \n",
    "xtrain, xtest = xtrsc, xtesc\n",
    "ytrain, ytest = Y[s], Y[t]"
   ]
  },
  {
   "cell_type": "markdown",
   "metadata": {},
   "source": [
    "### MULTI LAYER PERCEPTRON"
   ]
  },
  {
   "cell_type": "code",
   "execution_count": null,
   "metadata": {},
   "outputs": [],
   "source": [
    "# %%time\n",
    "\n",
    "# from sklearn.model_selection import GridSearchCV\n",
    "\n",
    "# params = {\n",
    "#           'tol': [1e-6,1e-1]\n",
    "#           ,'alpha': [1e-4,1e-1]\n",
    "#           ,'beta_1':[0.1,0.9]\n",
    "#           ,'beta_2':[0.1,0.999]\n",
    "#           ,'learning_rate':['constant','invscaling','adaptive']\n",
    "#           ,'learning_rate_init':[1e-4,1e-1]\n",
    "#           ,'activation':['tanh','relu','logistic'] \n",
    "#          }\n",
    "\n",
    "# mlp_classif_grid = GridSearchCV(MLPClassifier(random_state=123\n",
    "#                                               ,hidden_layer_sizes=(X.shape[1]//2,)\n",
    "#                                               ,solver='adam'\n",
    "#                                               ), param_grid=params, n_jobs=-1, cv=5, verbose=5)\n",
    "# mlp_classif_grid.fit(xtrain,ytrain)\n",
    "\n",
    "# print('Train Accuracy : %.3f'%mlp_classif_grid.best_estimator_.score(xtrain, ytrain))\n",
    "# print('Test Accuracy : %.3f'%mlp_classif_grid.best_estimator_.score(xtest, ytest))\n",
    "# print('Best Accuracy Through Grid Search : %.3f'%mlp_classif_grid.best_score_)\n",
    "# print('Best Parameters : ',mlp_classif_grid.best_params_)"
   ]
  },
  {
   "cell_type": "code",
   "execution_count": null,
   "metadata": {},
   "outputs": [],
   "source": [
    "clf = MLPClassifier(activation='tanh'\n",
    "                    ,learning_rate='constant'\n",
    "                    ,solver='adam'\n",
    "                    ,tol=1e-4\n",
    "                    ,alpha=1e-4\n",
    "                    ,hidden_layer_sizes=(xtrain.shape[1],xtrain.shape[1],)\n",
    "                    ,random_state=123\n",
    "                    ,shuffle=True\n",
    "                    ,verbose=True\n",
    "                    ,max_iter=200\n",
    "                    ,warm_start=False\n",
    "                    ).fit(xtrain,ytrain)"
   ]
  },
  {
   "cell_type": "code",
   "execution_count": null,
   "metadata": {},
   "outputs": [],
   "source": [
    "def plot_confusion_matrix(ytest, ypred):\n",
    "    conf_mat = confusion_matrix(ytest, ypred)\n",
    "    # print(conf_mat)\n",
    "    fig = plt.figure(figsize=(6,6))\n",
    "    plt.matshow(conf_mat, cmap=plt.cm.Blues, fignum=1)\n",
    "    plt.yticks(range(2), range(2))\n",
    "    plt.xticks(range(2), range(2))\n",
    "    plt.colorbar();\n",
    "    for i in range(2):\n",
    "        for j in range(2):\n",
    "            plt.text(i-0.2,j+0.1, str(conf_mat[j, i]), color='tab:red')"
   ]
  },
  {
   "cell_type": "code",
   "execution_count": null,
   "metadata": {},
   "outputs": [],
   "source": [
    "print(\"Number of Coefs : \", len(clf.coefs_))\n",
    "\n",
    "print([weights.shape for weights in clf.coefs_])\n",
    "\n",
    "print(\"Number of Intercepts : \", len(clf.intercepts_))\n",
    "\n",
    "print([intercept.shape for intercept in clf.intercepts_])\n",
    "\n",
    "print(\"Number of Iterations for Which Estimator Ran : \", clf.n_iter_)\n",
    "\n",
    "print(\"Name of Output Layer Activation Function : \", clf.out_activation_)"
   ]
  },
  {
   "cell_type": "code",
   "execution_count": null,
   "metadata": {},
   "outputs": [],
   "source": [
    "s = 100\n",
    "\n",
    "xtest_s = xtest[-s:].reshape(s,-1)\n",
    "ytest_s = ytest[-s:].reshape(s,-1)\n",
    "ypred = clf.predict(xtest_s)\n",
    "\n",
    "zol_tp = zero_one_loss(ytest_s, ypred)\n",
    "acc = accuracy_score(ytest_s,ypred)\n",
    "prec = precision_score(ytest_s,ypred,average='weighted')\n",
    "mse = mean_squared_error(ytest_s,ypred)\n",
    "mae = mean_absolute_error(ytest_s,ypred)\n",
    "exv = explained_variance_score(ytest_s,ypred)\n",
    "roc = roc_auc_score(ytest_s,ypred)\n",
    "\n",
    "print(\n",
    "    'training mean acc:',clf.score(xtrain,ytrain)\n",
    "    ,'\\ntesting mean acc:',clf.score(xtest_s,ytest_s),'\\naccuracy:',acc ,'\\nroc auc score:',roc,'\\nprecision:',prec\n",
    "    , '\\nexplained var:',exv, '\\nzero one loss:',zol_tp,'\\nmean sqr err:',mse,'\\nmean abs err:',mae\n",
    "    )"
   ]
  },
  {
   "cell_type": "code",
   "execution_count": null,
   "metadata": {},
   "outputs": [],
   "source": [
    "predpro = clf.predict_proba(xtest_s)\n",
    "\n",
    "plt.bar(np.arange(len(predpro)),predpro[:,0],label='p0')\n",
    "plt.bar(np.arange(len(predpro)),predpro[:,1],label='p1',bottom=predpro[:,0])\n",
    "plt.legend()"
   ]
  },
  {
   "cell_type": "code",
   "execution_count": null,
   "metadata": {},
   "outputs": [],
   "source": [
    "plot_confusion_matrix(ytest_s, ypred)\n",
    "plt.show()"
   ]
  }
 ],
 "metadata": {
  "interpreter": {
   "hash": "d31eb06d7a1749bf55b485af37745091f2bec8abdcbfee2a805ffb76b25b5350"
  },
  "kernelspec": {
   "display_name": "Python 3 (ipykernel)",
   "language": "python",
   "name": "python3"
  },
  "language_info": {
   "codemirror_mode": {
    "name": "ipython",
    "version": 3
   },
   "file_extension": ".py",
   "mimetype": "text/x-python",
   "name": "python",
   "nbconvert_exporter": "python",
   "pygments_lexer": "ipython3",
   "version": "3.9.2+"
  }
 },
 "nbformat": 4,
 "nbformat_minor": 2
}
