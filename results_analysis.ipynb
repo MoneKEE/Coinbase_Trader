{
 "cells": [
  {
   "cell_type": "code",
   "execution_count": null,
   "source": [
    "# %matplotlib inline\r\n",
    "\r\n",
    "import test\r\n",
    "from datetime import datetime as dt\r\n",
    "import matplotlib.pyplot as plt\r\n",
    "import scipy.signal as sg\r\n",
    "import pandas as pd\r\n",
    "# import sklearn as sk\r\n",
    "import numpy as np\r\n",
    "\r\n",
    "pd.plotting.register_matplotlib_converters()"
   ],
   "outputs": [],
   "metadata": {}
  },
  {
   "cell_type": "code",
   "execution_count": null,
   "source": [
    "data_o = test.testbed(start=dt(2020,8,1),stop=dt(2021,8,1),Fs=10,interval='1hour')"
   ],
   "outputs": [],
   "metadata": {}
  },
  {
   "cell_type": "code",
   "execution_count": null,
   "source": [
    "data_o[['lmda1','dr1','al1','k1']].describe()"
   ],
   "outputs": [],
   "metadata": {}
  },
  {
   "cell_type": "code",
   "execution_count": null,
   "source": [
    "sig = data_o[['dv1t_o','dr1','ma1','TE1','ft1','w1','q1','x1_gn','x1_pr','idposc','Fmm','Fma','Mam','Maa','vc_pwr','vc_c','x2_gn','x2_pr','q2','w2','ft2','TE2','ma2','dr2','dc1t_o']]"
   ],
   "outputs": [],
   "metadata": {}
  },
  {
   "cell_type": "code",
   "execution_count": null,
   "source": [
    "data_o.columns.values"
   ],
   "outputs": [],
   "metadata": {}
  },
  {
   "cell_type": "code",
   "execution_count": null,
   "source": [
    "sig.describe()"
   ],
   "outputs": [],
   "metadata": {}
  },
  {
   "cell_type": "code",
   "execution_count": null,
   "source": [
    "pd.plotting.autocorrelation_plot(sig.vc_pwr)"
   ],
   "outputs": [],
   "metadata": {}
  },
  {
   "cell_type": "code",
   "execution_count": null,
   "source": [
    "pd.plotting.autocorrelation_plot(sig.vc_c)"
   ],
   "outputs": [],
   "metadata": {}
  },
  {
   "cell_type": "code",
   "execution_count": null,
   "source": [
    "pd.plotting.lag_plot(sig.vc_pwr)"
   ],
   "outputs": [],
   "metadata": {}
  },
  {
   "cell_type": "code",
   "execution_count": null,
   "source": [
    "pd.plotting.lag_plot(sig.vc_c)"
   ],
   "outputs": [],
   "metadata": {}
  },
  {
   "cell_type": "code",
   "execution_count": null,
   "source": [
    "sig.boxplot(by='idposc')"
   ],
   "outputs": [],
   "metadata": {}
  },
  {
   "cell_type": "code",
   "execution_count": null,
   "source": [
    "pd.plotting.andrews_curves(sig,'idposc')"
   ],
   "outputs": [],
   "metadata": {}
  },
  {
   "cell_type": "code",
   "execution_count": null,
   "source": [
    "pd.plotting.parallel_coordinates(sig,'idposc')"
   ],
   "outputs": [],
   "metadata": {}
  },
  {
   "cell_type": "code",
   "execution_count": null,
   "source": [
    "f,s = sg.periodogram(sig.dv1t_o)\r\n",
    "plt.semilogy(f,np.sqrt(s))\r\n",
    "f,s = sg.periodogram(sig.dc1t_o)\r\n",
    "plt.semilogy(f,np.sqrt(s))"
   ],
   "outputs": [],
   "metadata": {}
  },
  {
   "cell_type": "code",
   "execution_count": null,
   "source": [
    "sig0 = sig[sig.idposc==0]\r\n",
    "sig1 = sig[sig.idposc==1]"
   ],
   "outputs": [],
   "metadata": {}
  },
  {
   "cell_type": "code",
   "execution_count": null,
   "source": [
    "sig0.drop('idposc',axis=1).describe()"
   ],
   "outputs": [],
   "metadata": {}
  },
  {
   "cell_type": "code",
   "execution_count": null,
   "source": [
    "sig1.drop('idposc',axis=1).describe()"
   ],
   "outputs": [],
   "metadata": {}
  },
  {
   "cell_type": "code",
   "execution_count": null,
   "source": [
    "sig0.drop('idposc',axis=1).hist()\r\n",
    "sig1.drop('idposc',axis=1).hist()"
   ],
   "outputs": [],
   "metadata": {}
  },
  {
   "cell_type": "code",
   "execution_count": null,
   "source": [
    "sigb     = ((sig.idposc == 1) \r\n",
    "                        & (sig.idposc.shift(1) == 0)) | ((sig.idposc == 0) \r\n",
    "                        & (sig.idposc.shift(-1) == 1))"
   ],
   "outputs": [],
   "metadata": {}
  },
  {
   "cell_type": "code",
   "execution_count": null,
   "source": [
    "sigtr = sig[sigb]\r\n",
    "sigtr.drop('idposc',axis=1).describe()"
   ],
   "outputs": [],
   "metadata": {}
  },
  {
   "cell_type": "code",
   "execution_count": null,
   "source": [
    "sigtr.boxplot(by='idposc')"
   ],
   "outputs": [],
   "metadata": {}
  },
  {
   "cell_type": "code",
   "execution_count": null,
   "source": [
    "sigtr.groupby('idposc').hist()"
   ],
   "outputs": [],
   "metadata": {}
  },
  {
   "cell_type": "code",
   "execution_count": null,
   "source": [
    "sigtr[sigtr.idposc==0].drop(['idposc'],axis=1).describe()"
   ],
   "outputs": [],
   "metadata": {}
  },
  {
   "cell_type": "code",
   "execution_count": null,
   "source": [
    "sigtr[sigtr.idposc==1].drop(['idposc'],axis=1).describe()"
   ],
   "outputs": [],
   "metadata": {}
  },
  {
   "cell_type": "code",
   "execution_count": null,
   "source": [
    "sigtr.corr()"
   ],
   "outputs": [],
   "metadata": {}
  },
  {
   "cell_type": "code",
   "execution_count": null,
   "source": [
    "sigtr.plot.scatter('dv1t_o','dc1t_o')\r\n",
    "plt.show()\r\n",
    "sigtr.plot.scatter('vc_pwr','dc1t_o')\r\n",
    "plt.show()\r\n",
    "sigtr.plot.scatter('vc_c','dc1t_o')\r\n",
    "plt.show()\r\n",
    "sigtr.plot.scatter('w1','dc1t_o')\r\n",
    "plt.show()\r\n",
    "sigtr.plot.scatter('w2','dc1t_o')\r\n",
    "plt.show()\r\n",
    "sigtr.plot.scatter('ft1','dc1t_o')\r\n",
    "plt.show()\r\n",
    "sigtr.plot.scatter('ft2','dc1t_o')\r\n",
    "plt.show()\r\n",
    "sigtr.plot.scatter('TE1','dc1t_o')\r\n",
    "plt.show()\r\n",
    "sigtr.plot.scatter('TE2','dc1t_o')\r\n",
    "plt.show()\r\n",
    "sigtr.plot.scatter('ma1','dc1t_o')\r\n",
    "plt.show()\r\n",
    "sigtr.plot.scatter('ma2','dc1t_o')\r\n",
    "plt.show()\r\n",
    "sigtr.plot.scatter('q1','dc1t_o')\r\n",
    "plt.show()\r\n",
    "sigtr.plot.scatter('q2','dc1t_o')\r\n",
    "plt.show()\r\n",
    "sigtr.plot.scatter('dr1','dc1t_o')\r\n",
    "plt.show()\r\n",
    "sigtr.plot.scatter('dr2','dc1t_o')\r\n",
    "plt.show()\r\n",
    "sigtr.plot.scatter('x1_gn','dc1t_o')\r\n",
    "plt.show()\r\n",
    "sigtr.plot.scatter('x2_gn','dc1t_o')\r\n",
    "plt.show()\r\n",
    "sigtr.plot.scatter('x1_pr','dc1t_o')\r\n",
    "plt.show()\r\n",
    "sigtr.plot.scatter('x2_pr','dc1t_o')\r\n",
    "plt.show()"
   ],
   "outputs": [],
   "metadata": {}
  },
  {
   "cell_type": "code",
   "execution_count": null,
   "source": [
    "sigtr0=sigtr[sigtr.idposc==0].drop('idposc',axis=1)\r\n",
    "sigtr1=sigtr[sigtr.idposc==1].drop('idposc',axis=1)"
   ],
   "outputs": [],
   "metadata": {}
  },
  {
   "cell_type": "code",
   "execution_count": null,
   "source": [
    "sigtr0.hist()\r\n",
    "sigtr1.hist()"
   ],
   "outputs": [],
   "metadata": {}
  },
  {
   "cell_type": "code",
   "execution_count": null,
   "source": [
    "sigtr.groupby('idposc').plot.scatter('dv1t_o','dc1t_o')\r\n",
    "plt.show()\r\n",
    "sigtr.groupby('idposc').plot.scatter('vc_pwr','dc1t_o')\r\n",
    "plt.show()\r\n",
    "sigtr.groupby('idposc').plot.scatter('vc_c','dc1t_o')\r\n",
    "plt.show()\r\n",
    "sigtr.groupby('idposc').plot.scatter('ft1','dc1t_o')\r\n",
    "plt.show()\r\n",
    "sigtr.groupby('idposc').plot.scatter('ft2','dc1t_o')\r\n",
    "plt.show()\r\n",
    "sigtr.groupby('idposc').plot.scatter('TE1','dc1t_o')\r\n",
    "plt.show()\r\n",
    "sigtr.groupby('idposc').plot.scatter('TE2','dc1t_o')\r\n",
    "plt.show()\r\n",
    "sigtr.groupby('idposc').plot.scatter('ma1','dc1t_o')\r\n",
    "plt.show()\r\n",
    "sigtr.groupby('idposc').plot.scatter('ma2','dc1t_o')\r\n",
    "plt.show()\r\n",
    "sigtr.groupby('idposc').plot.scatter('q1','dc1t_o')\r\n",
    "plt.show()\r\n",
    "sigtr.groupby('idposc').plot.scatter('q2','dc1t_o')\r\n",
    "plt.show()\r\n",
    "sigtr.groupby('idposc').plot.scatter('dr1','dc1t_o')\r\n",
    "plt.show()\r\n",
    "sigtr.groupby('idposc').plot.scatter('dr2','dc1t_o')\r\n",
    "plt.show()\r\n",
    "sigtr.groupby('idposc').plot.scatter('w1','dc1t_o')\r\n",
    "plt.show()\r\n",
    "sigtr.groupby('idposc').plot.scatter('w2','dc1t_o')\r\n",
    "plt.show()\r\n",
    "sigtr.groupby('idposc').plot.scatter('x1_gn','dc1t_o')\r\n",
    "plt.show()\r\n",
    "sigtr.groupby('idposc').plot.scatter('x2_gn','dc1t_o')\r\n",
    "plt.show()\r\n",
    "sigtr.groupby('idposc').plot.scatter('x1_pr','dc1t_o')\r\n",
    "plt.show()\r\n",
    "sigtr.groupby('idposc').plot.scatter('x2_pr','dc1t_o')\r\n",
    "plt.show()"
   ],
   "outputs": [],
   "metadata": {}
  },
  {
   "cell_type": "code",
   "execution_count": null,
   "source": [
    "sigtr[['x1_gn','x2_gn']].groupby(sigtr.idposc).describe()"
   ],
   "outputs": [],
   "metadata": {}
  },
  {
   "cell_type": "code",
   "execution_count": null,
   "source": [
    "sigtr[['x1_pr','x2_pr']].groupby(sigtr.idposc).describe()"
   ],
   "outputs": [],
   "metadata": {}
  },
  {
   "cell_type": "code",
   "execution_count": null,
   "source": [
    "sigtr[['w1','w2']].groupby(sigtr.idposc).describe()"
   ],
   "outputs": [],
   "metadata": {}
  },
  {
   "cell_type": "code",
   "execution_count": null,
   "source": [
    "sigtr[['dr1','dr2']].groupby(sigtr.idposc).describe()"
   ],
   "outputs": [],
   "metadata": {}
  },
  {
   "cell_type": "code",
   "execution_count": null,
   "source": [
    "sigtr[['ft1','ft2']].groupby(sigtr.idposc).describe()"
   ],
   "outputs": [],
   "metadata": {}
  },
  {
   "cell_type": "code",
   "execution_count": null,
   "source": [
    "sigtr[['TE1','TE2']].groupby(sigtr.idposc).describe()"
   ],
   "outputs": [],
   "metadata": {}
  },
  {
   "cell_type": "code",
   "execution_count": null,
   "source": [
    "sigtr[['ma1','ma2']].groupby(sigtr.idposc).describe()"
   ],
   "outputs": [],
   "metadata": {}
  },
  {
   "cell_type": "code",
   "execution_count": null,
   "source": [
    "sigtr[['q1','q2']].groupby(sigtr.idposc).describe()"
   ],
   "outputs": [],
   "metadata": {}
  },
  {
   "cell_type": "code",
   "execution_count": null,
   "source": [
    "sigtr[['vc_pwr','vc_c']].groupby(sigtr.idposc).describe()"
   ],
   "outputs": [],
   "metadata": {}
  },
  {
   "cell_type": "code",
   "execution_count": null,
   "source": [],
   "outputs": [],
   "metadata": {}
  }
 ],
 "metadata": {
  "orig_nbformat": 4,
  "language_info": {
   "name": "python",
   "version": "3.7.1",
   "mimetype": "text/x-python",
   "codemirror_mode": {
    "name": "ipython",
    "version": 3
   },
   "pygments_lexer": "ipython3",
   "nbconvert_exporter": "python",
   "file_extension": ".py"
  },
  "kernelspec": {
   "name": "python3",
   "display_name": "Python 3.7.1 32-bit"
  },
  "interpreter": {
   "hash": "d31eb06d7a1749bf55b485af37745091f2bec8abdcbfee2a805ffb76b25b5350"
  }
 },
 "nbformat": 4,
 "nbformat_minor": 2
}