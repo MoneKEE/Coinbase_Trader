{
 "cells": [
  {
   "cell_type": "code",
   "execution_count": null,
   "source": [
    "# %matplotlib inline\r\n",
    "\r\n",
    "import test\r\n",
    "from datetime import datetime as dt\r\n",
    "import matplotlib.pyplot as plt\r\n",
    "import scipy.signal as sg\r\n",
    "import pandas as pd\r\n",
    "# import sklearn as sk\r\n",
    "import numpy as np\r\n",
    "\r\n",
    "pd.plotting.register_matplotlib_converters()"
   ],
   "outputs": [],
   "metadata": {}
  },
  {
   "cell_type": "code",
   "execution_count": null,
   "source": [
    "data_o = test.testbed(start=dt(2021,1,1),stop=dt(2021,8,1),interval='1hour')"
   ],
   "outputs": [],
   "metadata": {}
  },
  {
   "cell_type": "code",
   "execution_count": null,
   "source": [
    "sig = data_o[['dv1t_o','al1','k1','ma1','TE1','ft1','w1','q1','idposc','vc_pwr','vc_r','dc1t_o','al2','k2','ma2','TE2','ft2','w2','q2']]"
   ],
   "outputs": [],
   "metadata": {}
  },
  {
   "cell_type": "code",
   "execution_count": null,
   "source": [
    "sig.plot(subplots=True)"
   ],
   "outputs": [],
   "metadata": {}
  },
  {
   "cell_type": "code",
   "execution_count": null,
   "source": [
    "sig[sig.idposc==0].drop('idposc',axis=1).describe()"
   ],
   "outputs": [],
   "metadata": {}
  },
  {
   "cell_type": "code",
   "execution_count": null,
   "source": [
    "sig[sig.idposc==1].drop('idposc',axis=1).describe()"
   ],
   "outputs": [],
   "metadata": {}
  },
  {
   "cell_type": "code",
   "execution_count": null,
   "source": [
    "pd.plotting.autocorrelation_plot(sig.vc_pwr)"
   ],
   "outputs": [],
   "metadata": {}
  },
  {
   "cell_type": "code",
   "execution_count": null,
   "source": [
    "pd.plotting.autocorrelation_plot(sig.vc_r)"
   ],
   "outputs": [],
   "metadata": {}
  },
  {
   "cell_type": "code",
   "execution_count": null,
   "source": [
    "pd.plotting.lag_plot(sig.vc_pwr)"
   ],
   "outputs": [],
   "metadata": {}
  },
  {
   "cell_type": "code",
   "execution_count": null,
   "source": [
    "pd.plotting.lag_plot(sig.vc_r)"
   ],
   "outputs": [],
   "metadata": {}
  },
  {
   "cell_type": "code",
   "execution_count": null,
   "source": [
    "sig.boxplot(by='idposc')"
   ],
   "outputs": [],
   "metadata": {}
  },
  {
   "cell_type": "code",
   "execution_count": null,
   "source": [
    "sig[sig.idposc==0].drop('idposc',axis=1).hist()\r\n",
    "sig[sig.idposc==1].drop('idposc',axis=1).hist()"
   ],
   "outputs": [],
   "metadata": {}
  },
  {
   "cell_type": "code",
   "execution_count": null,
   "source": [
    "pd.plotting.andrews_curves(sig,'idposc')"
   ],
   "outputs": [],
   "metadata": {}
  },
  {
   "cell_type": "code",
   "execution_count": null,
   "source": [
    "pd.plotting.parallel_coordinates(sig,'idposc')"
   ],
   "outputs": [],
   "metadata": {}
  },
  {
   "cell_type": "code",
   "execution_count": null,
   "source": [
    "f,s = sg.periodogram(sig.dv1t_o)\r\n",
    "plt.semilogy(f,np.sqrt(s))\r\n",
    "f,s = sg.periodogram(sig.dc1t_o)\r\n",
    "plt.semilogy(f,np.sqrt(s))"
   ],
   "outputs": [],
   "metadata": {}
  },
  {
   "cell_type": "code",
   "execution_count": null,
   "source": [
    "pd.plotting.scatter_matrix(sig)"
   ],
   "outputs": [],
   "metadata": {}
  },
  {
   "cell_type": "code",
   "execution_count": null,
   "source": [
    "plt.magnitude_spectrum(sig.dv1t_o)\r\n",
    "plt.magnitude_spectrum(sig.dc1t_o)"
   ],
   "outputs": [],
   "metadata": {}
  },
  {
   "cell_type": "code",
   "execution_count": null,
   "source": [
    "for i in range(1,10):\r\n",
    "    plt.plot(np.fft.ifft(data_o.v_fft[i:-i]),label=f'ifft{i}')\r\n",
    "\r\n",
    "# plt.plot(data_o.vf_t,label='ifft')"
   ],
   "outputs": [],
   "metadata": {}
  },
  {
   "cell_type": "code",
   "execution_count": null,
   "source": [
    "plt.plot(np.real(np.fft.ifft(data_o.v_fft)),np.imag(np.fft.ifft(data_o.v_fft)),linestyle='',marker='o')"
   ],
   "outputs": [],
   "metadata": {}
  },
  {
   "cell_type": "code",
   "execution_count": null,
   "source": [
    "for col in data_o.columns:\r\n",
    "    print(col)"
   ],
   "outputs": [],
   "metadata": {}
  }
 ],
 "metadata": {
  "orig_nbformat": 4,
  "language_info": {
   "name": "python",
   "version": "3.7.1",
   "mimetype": "text/x-python",
   "codemirror_mode": {
    "name": "ipython",
    "version": 3
   },
   "pygments_lexer": "ipython3",
   "nbconvert_exporter": "python",
   "file_extension": ".py"
  },
  "kernelspec": {
   "name": "python3",
   "display_name": "Python 3.7.1 32-bit"
  },
  "interpreter": {
   "hash": "d31eb06d7a1749bf55b485af37745091f2bec8abdcbfee2a805ffb76b25b5350"
  }
 },
 "nbformat": 4,
 "nbformat_minor": 2
}