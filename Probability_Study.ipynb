{
 "cells": [
  {
   "cell_type": "code",
   "execution_count": 3,
   "metadata": {},
   "outputs": [],
   "source": [
    "from test import testbed\n",
    "from datetime import datetime as dt\n",
    "import pandas as pd\n",
    "import matplotlib.pyplot as plt\n",
    "import statsmodels.api as sm\n",
    "\n",
    "import numpy as np\n",
    "\n",
    "pd.plotting.register_matplotlib_converters()"
   ]
  },
  {
   "cell_type": "code",
   "execution_count": 4,
   "metadata": {},
   "outputs": [
    {
     "name": "stdout",
     "output_type": "stream",
     "text": [
      "\n",
      "Starting dump run for date range 2020-09-01 00:00:00 - 2020-09-30 00:00:00 @interval=1minute\n",
      "\n",
      "\n",
      "Data acquired. Total data points:41655\n",
      "\n",
      "Creating Parameter system of order:3...\n",
      "\n",
      "Parameters are ready...\n",
      "\n",
      "- Creating addtional features...\n",
      "\n",
      "Data modelling complete...\n",
      "\n"
     ]
    },
    {
     "ename": "TypeError",
     "evalue": "_fftn_dispatcher() missing 1 required positional argument: 'a'",
     "output_type": "error",
     "traceback": [
      "\u001b[1;31m---------------------------------------------------------------------------\u001b[0m",
      "\u001b[1;31mTypeError\u001b[0m                                 Traceback (most recent call last)",
      "\u001b[1;32m~\\AppData\\Local\\Temp/ipykernel_19616/48368521.py\u001b[0m in \u001b[0;36m<module>\u001b[1;34m\u001b[0m\n\u001b[1;32m----> 1\u001b[1;33m \u001b[0mdata\u001b[0m \u001b[1;33m=\u001b[0m \u001b[0mtestbed\u001b[0m\u001b[1;33m(\u001b[0m\u001b[0masset\u001b[0m\u001b[1;33m=\u001b[0m\u001b[1;34m'ETH-USD'\u001b[0m\u001b[1;33m,\u001b[0m\u001b[0mstart\u001b[0m\u001b[1;33m=\u001b[0m\u001b[0mdt\u001b[0m\u001b[1;33m(\u001b[0m\u001b[1;36m2020\u001b[0m\u001b[1;33m,\u001b[0m\u001b[1;36m9\u001b[0m\u001b[1;33m,\u001b[0m\u001b[1;36m1\u001b[0m\u001b[1;33m)\u001b[0m\u001b[1;33m,\u001b[0m\u001b[0mstop\u001b[0m\u001b[1;33m=\u001b[0m\u001b[0mdt\u001b[0m\u001b[1;33m(\u001b[0m\u001b[1;36m2020\u001b[0m\u001b[1;33m,\u001b[0m\u001b[1;36m9\u001b[0m\u001b[1;33m,\u001b[0m\u001b[1;36m30\u001b[0m\u001b[1;33m)\u001b[0m\u001b[1;33m,\u001b[0m\u001b[0mhrm\u001b[0m\u001b[1;33m=\u001b[0m\u001b[1;34m'all'\u001b[0m\u001b[1;33m,\u001b[0m\u001b[0minterval\u001b[0m\u001b[1;33m=\u001b[0m\u001b[1;34m'1minute'\u001b[0m\u001b[1;33m,\u001b[0m\u001b[0mF\u001b[0m\u001b[1;33m=\u001b[0m\u001b[1;36m368896\u001b[0m\u001b[1;33m,\u001b[0m\u001b[0mmode\u001b[0m\u001b[1;33m=\u001b[0m\u001b[1;34m'dump'\u001b[0m\u001b[1;33m,\u001b[0m\u001b[0mm\u001b[0m\u001b[1;33m=\u001b[0m\u001b[1;36m1\u001b[0m\u001b[1;33m,\u001b[0m\u001b[0mrefresh\u001b[0m\u001b[1;33m=\u001b[0m\u001b[1;36m0.5\u001b[0m\u001b[1;33m)\u001b[0m\u001b[1;33m\u001b[0m\u001b[1;33m\u001b[0m\u001b[0m\n\u001b[0m",
      "\u001b[1;32mc:\\Users\\mwill\\Coupled-Oscillator-Analyzer\\test.py\u001b[0m in \u001b[0;36mtestbed\u001b[1;34m(asset, start, stop, hrm, interval, F, mode, obv, m, refresh)\u001b[0m\n\u001b[0;32m     35\u001b[0m                             \u001b[1;33m,\u001b[0m\u001b[0mF\u001b[0m\u001b[1;33m=\u001b[0m\u001b[0mF\u001b[0m\u001b[1;33m\u001b[0m\u001b[1;33m\u001b[0m\u001b[0m\n\u001b[0;32m     36\u001b[0m                             \u001b[1;33m,\u001b[0m\u001b[0mm\u001b[0m\u001b[1;33m=\u001b[0m\u001b[0mm\u001b[0m\u001b[1;33m\u001b[0m\u001b[1;33m\u001b[0m\u001b[0m\n\u001b[1;32m---> 37\u001b[1;33m                             \u001b[1;33m,\u001b[0m\u001b[0mhrm\u001b[0m\u001b[1;33m=\u001b[0m\u001b[0mhrm\u001b[0m\u001b[1;33m\u001b[0m\u001b[1;33m\u001b[0m\u001b[0m\n\u001b[0m\u001b[0;32m     38\u001b[0m                             )\n\u001b[0;32m     39\u001b[0m \u001b[1;33m\u001b[0m\u001b[0m\n",
      "\u001b[1;32mc:\\Users\\mwill\\Coupled-Oscillator-Analyzer\\nonlinear.py\u001b[0m in \u001b[0;36mdualosc2\u001b[1;34m(data, F, hrm, m)\u001b[0m\n\u001b[0;32m     61\u001b[0m     \u001b[0mL\u001b[0m \u001b[1;33m=\u001b[0m \u001b[0mlen\u001b[0m\u001b[1;33m(\u001b[0m\u001b[0mx1\u001b[0m\u001b[1;33m)\u001b[0m\u001b[1;33m//\u001b[0m\u001b[1;36m4\u001b[0m\u001b[1;33m\u001b[0m\u001b[1;33m\u001b[0m\u001b[0m\n\u001b[0;32m     62\u001b[0m \u001b[1;33m\u001b[0m\u001b[0m\n\u001b[1;32m---> 63\u001b[1;33m \u001b[1;33m\u001b[0m\u001b[0m\n\u001b[0m\u001b[0;32m     64\u001b[0m \u001b[1;33m\u001b[0m\u001b[0m\n\u001b[0;32m     65\u001b[0m     \u001b[0mchd1\u001b[0m \u001b[1;33m=\u001b[0m \u001b[0mnp\u001b[0m\u001b[1;33m.\u001b[0m\u001b[0mmultiply\u001b[0m\u001b[1;33m(\u001b[0m\u001b[0mall\u001b[0m\u001b[1;33m,\u001b[0m\u001b[0mw1o\u001b[0m\u001b[1;33m[\u001b[0m\u001b[1;36m0\u001b[0m\u001b[1;33m]\u001b[0m\u001b[1;33m)\u001b[0m\u001b[1;33m\u001b[0m\u001b[1;33m\u001b[0m\u001b[0m\n",
      "\u001b[1;32m<__array_function__ internals>\u001b[0m in \u001b[0;36mfft2\u001b[1;34m(*args, **kwargs)\u001b[0m\n",
      "\u001b[1;31mTypeError\u001b[0m: _fftn_dispatcher() missing 1 required positional argument: 'a'"
     ]
    }
   ],
   "source": [
    "data = testbed(asset='ETH-USD',start=dt(2020,9,1),stop=dt(2020,9,30),hrm='all',interval='1minute',F=368896,mode='dump',m=1,refresh=0.5)"
   ]
  },
  {
   "cell_type": "code",
   "execution_count": null,
   "metadata": {},
   "outputs": [
    {
     "data": {
      "text/plain": [
       "array(['x1', 'dotx1', 'ddotx1', 'xg1', 'xp1', 'ma1', 'ft1', 'ff1', 'te1',\n",
       "       'ed1', 'pe1', 'ke1', 'wrk1', 'pwr1', 'w1o', 'w1', 'a1', 'k1',\n",
       "       'dr1', 'zeta1', 'q1', 'rf1', 'thd1', 'x2', 'dotx2', 'ddotx2',\n",
       "       'xg2', 'xp2', 'ma2', 'ft2', 'ff2', 'te2', 'ed2', 'pe2', 'ke2',\n",
       "       'wrk2', 'pwr2', 'w2o', 'w2', 'a2', 'k2', 'dr2', 'zeta2', 'q2',\n",
       "       'rf2', 'thd2', 'Pe', 'Ke', 'He', 'Le', 'Mam', 'Maa', 'Mat', 'Ftm',\n",
       "       'Fta', 'Ftt', 'Ffm', 'Ffa', 'Fft', 'Pwm', 'Pwa', 'Pwt', 'Wkm',\n",
       "       'Wka', 'Wkt', 'Trq', 'Thd', 'Spd', 'pos', 'posa'], dtype=object)"
      ]
     },
     "execution_count": 37,
     "metadata": {},
     "output_type": "execute_result"
    }
   ],
   "source": [
    "data.columns.values"
   ]
  },
  {
   "cell_type": "code",
   "execution_count": null,
   "metadata": {},
   "outputs": [],
   "source": [
    "sys = data.iloc[:,data.columns.get_loc('Pe'):]\n",
    "sig1 = data.iloc[:,data.columns.get_loc('x1'):data.columns.get_loc('x2')].join(sys_s.pos)\n",
    "sig2 = data.iloc[:,data.columns.get_loc('x2'):data.columns.get_loc('Pe')].join(sys_s.pos)"
   ]
  },
  {
   "cell_type": "code",
   "execution_count": null,
   "metadata": {},
   "outputs": [
    {
     "name": "stdout",
     "output_type": "stream",
     "text": [
      "p(1): 49.87270631184552 p(0): 50.12729368815448\n"
     ]
    }
   ],
   "source": [
    "print('p(1):',100*(data.pos.value_counts()[1]/data.x1.size)\n",
    "        ,'p(0):',100*data.pos.value_counts()[0]/data.x1.size\n",
    ")"
   ]
  },
  {
   "cell_type": "code",
   "execution_count": null,
   "metadata": {},
   "outputs": [
    {
     "data": {
      "text/plain": [
       "<matplotlib.collections.PathCollection at 0x4b1c23b0>"
      ]
     },
     "execution_count": 40,
     "metadata": {},
     "output_type": "execute_result"
    },
    {
     "data": {
      "image/png": "[encoded data removed]",
      "text/plain": [
       "<Figure size 432x288 with 1 Axes>"
      ]
     },
     "metadata": {},
     "output_type": "display_data"
    }
   ],
   "source": [
    "ang = np.angle(np.fft.fft(sig1.x1))\n",
    "dang = pd.Series(ang).shift(-1) - ang\n",
    "plt.scatter(ang,dang)"
   ]
  },
  {
   "cell_type": "markdown",
   "metadata": {},
   "source": [
    "### MULTI LAYER PERCEPTRON"
   ]
  },
  {
   "cell_type": "code",
   "execution_count": null,
   "metadata": {},
   "outputs": [],
   "source": [
    "lab = np.array(sig1.pos)\n",
    "sig1 = sig1.drop('pos',axis=1)\n",
    "sig2 = sig2.drop('pos',axis=1)\n",
    "sys_s = sys.drop('pos',axis=1)"
   ]
  },
  {
   "cell_type": "code",
   "execution_count": null,
   "metadata": {},
   "outputs": [
    {
     "name": "stdout",
     "output_type": "stream",
     "text": [
      "                                 OLS Regression Results                                \n",
      "=======================================================================================\n",
      "Dep. Variable:                      y   R-squared (uncentered):                   0.472\n",
      "Model:                            OLS   Adj. R-squared (uncentered):              0.472\n",
      "Method:                 Least Squares   F-statistic:                              1859.\n",
      "Date:                Wed, 13 Oct 2021   Prob (F-statistic):                        0.00\n",
      "Time:                        14:45:43   Log-Likelihood:                         -31308.\n",
      "No. Observations:               41636   AIC:                                  6.266e+04\n",
      "Df Residuals:                   41616   BIC:                                  6.283e+04\n",
      "Df Model:                          20                                                  \n",
      "Covariance Type:            nonrobust                                                  \n",
      "==============================================================================\n",
      "                 coef    std err          t      P>|t|      [0.025      0.975]\n",
      "------------------------------------------------------------------------------\n",
      "Pe         -3.977e+06   2.52e+06     -1.581      0.114   -8.91e+06    9.53e+05\n",
      "Ke          1.247e+07   7.89e+06      1.581      0.114   -2.99e+06    2.79e+07\n",
      "He         -2.428e+07   1.54e+07     -1.581      0.114   -5.44e+07    5.82e+06\n",
      "Le         -2.511e+07   1.59e+07     -1.581      0.114   -5.62e+07    6.02e+06\n",
      "Mam           22.1661      3.022      7.334      0.000      16.242      28.090\n",
      "Maa           -0.1575      0.032     -4.967      0.000      -0.220      -0.095\n",
      "Mat          3.57e+11   2.26e+11      1.581      0.114   -8.56e+10       8e+11\n",
      "Ftm          -21.6422      3.097     -6.987      0.000     -27.713     -15.571\n",
      "Fta            0.0376      0.001     28.995      0.000       0.035       0.040\n",
      "Ftt        -3.545e+11   2.24e+11     -1.581      0.114   -7.94e+11     8.5e+10\n",
      "Ffm            6.2618      0.164     38.103      0.000       5.940       6.584\n",
      "Ffa           -0.0188      0.001    -15.974      0.000      -0.021      -0.016\n",
      "Fft         1.342e+10   8.49e+09      1.581      0.114   -3.22e+09    3.01e+10\n",
      "Pwm            0.2866      0.287      0.999      0.318      -0.275       0.849\n",
      "Pwa            0.0069      0.001      5.331      0.000       0.004       0.009\n",
      "Pwt           -0.7980      0.266     -2.998      0.003      -1.320      -0.276\n",
      "Wkm            0.2747      0.333      0.824      0.410      -0.378       0.928\n",
      "Wka            0.5978      0.100      5.983      0.000       0.402       0.794\n",
      "Wkt           -1.3971      0.374     -3.731      0.000      -2.131      -0.663\n",
      "Trq            0.0667      0.844      0.079      0.937      -1.588       1.721\n",
      "Thd           -0.1611      0.505     -0.319      0.750      -1.151       0.828\n",
      "Spd            0.0034      0.006      0.566      0.572      -0.008       0.015\n",
      "posa           9.3776      0.070    133.883      0.000       9.240       9.515\n",
      "==============================================================================\n",
      "Omnibus:                    14572.089   Durbin-Watson:                   1.361\n",
      "Prob(Omnibus):                  0.000   Jarque-Bera (JB):           346215.189\n",
      "Skew:                          -1.139   Prob(JB):                         0.00\n",
      "Kurtosis:                      16.942   Cond. No.                     1.18e+17\n",
      "==============================================================================\n",
      "\n",
      "Notes:\n",
      "[1] R² is computed without centering (uncentered) since the model does not contain a constant.\n",
      "[2] Standard Errors assume that the covariance matrix of the errors is correctly specified.\n",
      "[3] The smallest eigenvalue is 2.19e-29. This might indicate that there are\n",
      "strong multicollinearity problems or that the design matrix is singular.\n"
     ]
    }
   ],
   "source": [
    "mod  = sm.OLS(lab,sys_s)\n",
    "\n",
    "res = mod.fit()\n",
    "\n",
    "print(res.summary())"
   ]
  },
  {
   "cell_type": "code",
   "execution_count": 62,
   "metadata": {},
   "outputs": [
    {
     "ename": "ValueError",
     "evalue": "Joining multiple DataFrames only supported for joining on index",
     "output_type": "error",
     "traceback": [
      "\u001b[1;31m---------------------------------------------------------------------------\u001b[0m",
      "\u001b[1;31mValueError\u001b[0m                                Traceback (most recent call last)",
      "\u001b[1;32m~\\AppData\\Local\\Temp/ipykernel_39624/3992377262.py\u001b[0m in \u001b[0;36m<module>\u001b[1;34m\u001b[0m\n\u001b[1;32m----> 1\u001b[1;33m \u001b[0msys\u001b[0m\u001b[1;33m.\u001b[0m\u001b[0mjoin\u001b[0m\u001b[1;33m(\u001b[0m\u001b[0mlab\u001b[0m\u001b[1;33m,\u001b[0m\u001b[0mon\u001b[0m\u001b[1;33m=\u001b[0m\u001b[0msys\u001b[0m\u001b[1;33m.\u001b[0m\u001b[0mindex\u001b[0m\u001b[1;33m)\u001b[0m\u001b[1;33m\u001b[0m\u001b[1;33m\u001b[0m\u001b[0m\n\u001b[0m",
      "\u001b[1;32m~\\AppData\\Local\\Programs\\Python\\Python37-32\\lib\\site-packages\\pandas\\core\\frame.py\u001b[0m in \u001b[0;36mjoin\u001b[1;34m(self, other, on, how, lsuffix, rsuffix, sort)\u001b[0m\n\u001b[0;32m   9094\u001b[0m         \"\"\"\n\u001b[0;32m   9095\u001b[0m         return self._join_compat(\n\u001b[1;32m-> 9096\u001b[1;33m             \u001b[0mother\u001b[0m\u001b[1;33m,\u001b[0m \u001b[0mon\u001b[0m\u001b[1;33m=\u001b[0m\u001b[0mon\u001b[0m\u001b[1;33m,\u001b[0m \u001b[0mhow\u001b[0m\u001b[1;33m=\u001b[0m\u001b[0mhow\u001b[0m\u001b[1;33m,\u001b[0m \u001b[0mlsuffix\u001b[0m\u001b[1;33m=\u001b[0m\u001b[0mlsuffix\u001b[0m\u001b[1;33m,\u001b[0m \u001b[0mrsuffix\u001b[0m\u001b[1;33m=\u001b[0m\u001b[0mrsuffix\u001b[0m\u001b[1;33m,\u001b[0m \u001b[0msort\u001b[0m\u001b[1;33m=\u001b[0m\u001b[0msort\u001b[0m\u001b[1;33m\u001b[0m\u001b[1;33m\u001b[0m\u001b[0m\n\u001b[0m\u001b[0;32m   9097\u001b[0m         )\n\u001b[0;32m   9098\u001b[0m \u001b[1;33m\u001b[0m\u001b[0m\n",
      "\u001b[1;32m~\\AppData\\Local\\Programs\\Python\\Python37-32\\lib\\site-packages\\pandas\\core\\frame.py\u001b[0m in \u001b[0;36m_join_compat\u001b[1;34m(self, other, on, how, lsuffix, rsuffix, sort)\u001b[0m\n\u001b[0;32m   9137\u001b[0m             \u001b[1;32mif\u001b[0m \u001b[0mon\u001b[0m \u001b[1;32mis\u001b[0m \u001b[1;32mnot\u001b[0m \u001b[1;32mNone\u001b[0m\u001b[1;33m:\u001b[0m\u001b[1;33m\u001b[0m\u001b[1;33m\u001b[0m\u001b[0m\n\u001b[0;32m   9138\u001b[0m                 raise ValueError(\n\u001b[1;32m-> 9139\u001b[1;33m                     \u001b[1;34m\"Joining multiple DataFrames only supported for joining on index\"\u001b[0m\u001b[1;33m\u001b[0m\u001b[1;33m\u001b[0m\u001b[0m\n\u001b[0m\u001b[0;32m   9140\u001b[0m                 )\n\u001b[0;32m   9141\u001b[0m \u001b[1;33m\u001b[0m\u001b[0m\n",
      "\u001b[1;31mValueError\u001b[0m: Joining multiple DataFrames only supported for joining on index"
     ]
    }
   ],
   "source": []
  },
  {
   "cell_type": "code",
   "execution_count": 7,
   "metadata": {},
   "outputs": [],
   "source": [
    "from sklearn.model_selection import TimeSeriesSplit\n",
    "from sklearn.neural_network import MLPClassifier\n",
    "from sklearn.metrics import confusion_matrix\n",
    "from sklearn.metrics import zero_one_loss, accuracy_score, precision_score, mean_absolute_error, mean_squared_error,roc_auc_score, explained_variance_score\n",
    "# from sklearn.gaussian_process import GaussianProcessRegressor\n",
    "# from sklearn.gaussian_process.kernels import DotProduct, WhiteKernel\n",
    "\n",
    "tscv = TimeSeriesSplit(n_splits=5)\n",
    "\n",
    "X1 = np.array(sig1)\n",
    "X2 = np.array(sig2)\n",
    "Xs = sys_s\n",
    "\n",
    "X = np.float32(Xs)\n",
    "Y = np.float32(lab)\n",
    "\n",
    "for train_index, test_index in tscv.split(X):\n",
    "    s = train_index\n",
    "    t = test_index\n",
    "xtrain, xtest = X[s], X[t]\n",
    "ytrain, ytest = Y[s], Y[t]"
   ]
  },
  {
   "cell_type": "markdown",
   "metadata": {},
   "source": [
    "### Best Parameters :  {'activation': 'tanh', 'hidden_layer_sizes': (15, 15), 'learning_rate': 'constant', 'solver': 'adam'}"
   ]
  },
  {
   "cell_type": "code",
   "execution_count": 8,
   "metadata": {},
   "outputs": [
    {
     "name": "stdout",
     "output_type": "stream",
     "text": [
      "Iteration 1, loss = 0.59353846\n",
      "Iteration 2, loss = 0.56303857\n",
      "Iteration 3, loss = 0.54900087\n",
      "Iteration 4, loss = 0.53410381\n",
      "Iteration 5, loss = 0.51137311\n",
      "Iteration 6, loss = 0.47521621\n",
      "Iteration 7, loss = 0.42590947\n",
      "Iteration 8, loss = 0.37229793\n",
      "Iteration 9, loss = 0.32384597\n",
      "Iteration 10, loss = 0.28377621\n",
      "Iteration 11, loss = 0.25138847\n",
      "Iteration 12, loss = 0.22519266\n",
      "Iteration 13, loss = 0.20374748\n",
      "Iteration 14, loss = 0.18592908\n",
      "Iteration 15, loss = 0.17093989\n",
      "Iteration 16, loss = 0.15819864\n",
      "Iteration 17, loss = 0.14727011\n",
      "Iteration 18, loss = 0.13780126\n",
      "Iteration 19, loss = 0.12953364\n",
      "Iteration 20, loss = 0.12224013\n",
      "Iteration 21, loss = 0.11576521\n",
      "Iteration 22, loss = 0.10996616\n",
      "Iteration 23, loss = 0.10474181\n",
      "Iteration 24, loss = 0.10000243\n",
      "Iteration 25, loss = 0.09567711\n",
      "Iteration 26, loss = 0.09170551\n",
      "Iteration 27, loss = 0.08803710\n",
      "Iteration 28, loss = 0.08462927\n",
      "Iteration 29, loss = 0.08144626\n",
      "Iteration 30, loss = 0.07845817\n",
      "Iteration 31, loss = 0.07564026\n",
      "Iteration 32, loss = 0.07297248\n",
      "Iteration 33, loss = 0.07043927\n",
      "Iteration 34, loss = 0.06802907\n",
      "Iteration 35, loss = 0.06573378\n",
      "Iteration 36, loss = 0.06354780\n",
      "Iteration 37, loss = 0.06146717\n",
      "Iteration 38, loss = 0.05948866\n",
      "Iteration 39, loss = 0.05760924\n",
      "Iteration 40, loss = 0.05582554\n",
      "Iteration 41, loss = 0.05413375\n",
      "Iteration 42, loss = 0.05252954\n",
      "Iteration 43, loss = 0.05100822\n",
      "Iteration 44, loss = 0.04956490\n",
      "Iteration 45, loss = 0.04819458\n",
      "Iteration 46, loss = 0.04689222\n",
      "Iteration 47, loss = 0.04565280\n",
      "Iteration 48, loss = 0.04447139\n",
      "Iteration 49, loss = 0.04334318\n",
      "Iteration 50, loss = 0.04226368\n",
      "Iteration 51, loss = 0.04122887\n",
      "Iteration 52, loss = 0.04023529\n",
      "Iteration 53, loss = 0.03928017\n",
      "Iteration 54, loss = 0.03836131\n",
      "Iteration 55, loss = 0.03747706\n",
      "Iteration 56, loss = 0.03662617\n",
      "Iteration 57, loss = 0.03580769\n",
      "Iteration 58, loss = 0.03502094\n",
      "Iteration 59, loss = 0.03426537\n",
      "Iteration 60, loss = 0.03354053\n",
      "Iteration 61, loss = 0.03284599\n",
      "Iteration 62, loss = 0.03218127\n",
      "Iteration 63, loss = 0.03154583\n",
      "Iteration 64, loss = 0.03093900\n",
      "Iteration 65, loss = 0.03035999\n",
      "Iteration 66, loss = 0.02980781\n",
      "Iteration 67, loss = 0.02928132\n",
      "Iteration 68, loss = 0.02877921\n",
      "Iteration 69, loss = 0.02830005\n",
      "Iteration 70, loss = 0.02784234\n",
      "Iteration 71, loss = 0.02740459\n",
      "Iteration 72, loss = 0.02698536\n",
      "Iteration 73, loss = 0.02658337\n",
      "Iteration 74, loss = 0.02619752\n",
      "Iteration 75, loss = 0.02582712\n",
      "Iteration 76, loss = 0.02547206\n",
      "Iteration 77, loss = 0.02513308\n",
      "Iteration 78, loss = 0.02481170\n",
      "Iteration 79, loss = 0.02450991\n",
      "Iteration 80, loss = 0.02422954\n",
      "Iteration 81, loss = 0.02397173\n",
      "Iteration 82, loss = 0.02373671\n",
      "Iteration 83, loss = 0.02352395\n",
      "Iteration 84, loss = 0.02333251\n",
      "Iteration 85, loss = 0.02316119\n",
      "Iteration 86, loss = 0.02300857\n",
      "Iteration 87, loss = 0.02287282\n",
      "Iteration 88, loss = 0.02275137\n",
      "Iteration 89, loss = 0.02264046\n",
      "Iteration 90, loss = 0.02253462\n",
      "Iteration 91, loss = 0.02242701\n",
      "Iteration 92, loss = 0.02231210\n",
      "Iteration 93, loss = 0.02219076\n",
      "Iteration 94, loss = 0.02207257\n",
      "Iteration 95, loss = 0.02196996\n",
      "Iteration 96, loss = 0.02188457\n",
      "Iteration 97, loss = 0.02180353\n",
      "Iteration 98, loss = 0.02171541\n",
      "Iteration 99, loss = 0.02162097\n",
      "Iteration 100, loss = 0.02152653\n",
      "Iteration 101, loss = 0.02143646\n",
      "Iteration 102, loss = 0.02135207\n",
      "Iteration 103, loss = 0.02127439\n",
      "Iteration 104, loss = 0.02120121\n",
      "Iteration 105, loss = 0.02113758\n",
      "Iteration 106, loss = 0.02107548\n",
      "Training loss did not improve more than tol=0.000100 for 10 consecutive epochs. Stopping.\n"
     ]
    },
    {
     "data": {
      "text/plain": [
       "MLPClassifier(activation='tanh', alpha=0.0001, batch_size='auto', beta_1=0.9,\n",
       "              beta_2=0.999, early_stopping=False, epsilon=1e-08,\n",
       "              hidden_layer_sizes=(15, 15), learning_rate='constant',\n",
       "              learning_rate_init=0.001, max_iter=200, momentum=0.9,\n",
       "              n_iter_no_change=10, nesterovs_momentum=True, power_t=0.5,\n",
       "              random_state=123, shuffle=False, solver='adam', tol=0.0001,\n",
       "              validation_fraction=0.1, verbose=True, warm_start=True)"
      ]
     },
     "execution_count": 8,
     "metadata": {},
     "output_type": "execute_result"
    }
   ],
   "source": [
    "clf = MLPClassifier(random_state=123\n",
    "                    ,verbose=True\n",
    "                    ,warm_start=True\n",
    "                    ,activation='tanh'\n",
    "                    ,learning_rate='constant'\n",
    "                    ,solver='adam'\n",
    "                    ,shuffle=False\n",
    "                    ,hidden_layer_sizes=(15,15,)\n",
    "                    )\n",
    "\n",
    "clf.fit(xtrain,ytrain)"
   ]
  },
  {
   "cell_type": "code",
   "execution_count": 9,
   "metadata": {},
   "outputs": [],
   "source": [
    "# %%time\n",
    "\n",
    "# from sklearn.model_selection import GridSearchCV\n",
    "\n",
    "# params = {'activation': ['relu', 'tanh', 'logistic', 'identity'],\n",
    "#           'hidden_layer_sizes': [(15,), (15,15,), (15,15,15,)],\n",
    "#           'solver': ['adam', 'sgd', 'lbfgs'],\n",
    "#           'learning_rate' : ['constant', 'adaptive', 'invscaling'],\n",
    "#           'random_state': [None,0,123]\n",
    "#          }\n",
    "\n",
    "# mlp_classif_grid = GridSearchCV(MLPClassifier(random_state=123), param_grid=params, n_jobs=-1, cv=5, verbose=5)\n",
    "# mlp_classif_grid.fit(xtrain,ytrain)\n",
    "\n",
    "# print('Train Accuracy : %.3f'%mlp_classif_grid.best_estimator_.score(xtrain, ytrain))\n",
    "# print('Test Accuracy : %.3f'%mlp_classif_grid.best_estimator_.score(xtest, ytest))\n",
    "# print('Best Accuracy Through Grid Search : %.3f'%mlp_classif_grid.best_score_)\n",
    "# print('Best Parameters : ',mlp_classif_grid.best_params_)"
   ]
  },
  {
   "cell_type": "code",
   "execution_count": 10,
   "metadata": {},
   "outputs": [],
   "source": [
    "def plot_confusion_matrix(ytest, ypred):\n",
    "    conf_mat = confusion_matrix(ytest, ypred)\n",
    "    print(conf_mat)\n",
    "    fig = plt.figure(figsize=(6,6))\n",
    "    plt.matshow(conf_mat, cmap=plt.cm.Blues, fignum=1)\n",
    "    plt.yticks(range(2), range(2))\n",
    "    plt.xticks(range(2), range(2))\n",
    "    plt.colorbar();\n",
    "    for i in range(2):\n",
    "        for j in range(2):\n",
    "            plt.text(i-0.2,j+0.1, str(conf_mat[j, i]), color='tab:red')"
   ]
  },
  {
   "cell_type": "code",
   "execution_count": 11,
   "metadata": {},
   "outputs": [
    {
     "name": "stdout",
     "output_type": "stream",
     "text": [
      "Number of Coefs :  3\n",
      "[(23, 15), (15, 15), (15, 1)]\n",
      "Number of Intercepts :  3\n",
      "[(15,), (15,), (1,)]\n",
      "Number of Iterations for Which Estimator Ran :  106\n",
      "Name of Output Layer Activation Function :  logistic\n"
     ]
    }
   ],
   "source": [
    "print(\"Number of Coefs : \", len(clf.coefs_))\n",
    "\n",
    "print([weights.shape for weights in clf.coefs_])\n",
    "\n",
    "print(\"Number of Intercepts : \", len(clf.intercepts_))\n",
    "\n",
    "print([intercept.shape for intercept in clf.intercepts_])\n",
    "\n",
    "print(\"Number of Iterations for Which Estimator Ran : \", clf.n_iter_)\n",
    "\n",
    "print(\"Name of Output Layer Activation Function : \", clf.out_activation_)"
   ]
  },
  {
   "cell_type": "code",
   "execution_count": 43,
   "metadata": {},
   "outputs": [
    {
     "name": "stdout",
     "output_type": "stream",
     "text": [
      "training mean acc: 0.9920454217943915 \n",
      "testing mean acc: 0.9894797521256665 \n",
      "accuracy: 1.0 \n",
      "roc auc score: 0 \n",
      "precision: 1.0 \n",
      "explained var: 1.0 \n",
      "zero one loss: 0.0 \n",
      "mean sqr err: 0.0 \n",
      "mean abs err: 0.0\n"
     ]
    }
   ],
   "source": [
    "s = 100\n",
    "\n",
    "xtest_s = xtest[-s:].reshape(s,-1)\n",
    "ytest_s = ytest[-s:].reshape(s,-1)\n",
    "ypred = clf.predict(xtest_s)\n",
    "\n",
    "zol_tp = zero_one_loss(ytest_s, ypred)\n",
    "acc = accuracy_score(ytest_s,ypred)\n",
    "prec = precision_score(ytest_s,ypred)\n",
    "mse = mean_squared_error(ytest_s,ypred)\n",
    "mae = mean_absolute_error(ytest_s,ypred)\n",
    "exv = explained_variance_score(ytest_s,ypred)\n",
    "roc = 0 #roc_auc_score(ytest_s,ypred)\n",
    "\n",
    "print(\n",
    "    'training mean acc:',clf.score(xtrain,ytrain)\n",
    "    ,'\\ntesting mean acc:',clf.score(xtest,ytest),'\\naccuracy:',acc ,'\\nroc auc score:',roc,'\\nprecision:',prec\n",
    "    , '\\nexplained var:',exv, '\\nzero one loss:',zol_tp,'\\nmean sqr err:',mse,'\\nmean abs err:',mae\n",
    "    )"
   ]
  },
  {
   "cell_type": "code",
   "execution_count": 44,
   "metadata": {},
   "outputs": [
    {
     "data": {
      "text/plain": [
       "<BarContainer object of 100 artists>"
      ]
     },
     "execution_count": 44,
     "metadata": {},
     "output_type": "execute_result"
    },
    {
     "data": {
      "image/png": "[encoded data removed]",
      "text/plain": [
       "<Figure size 432x288 with 1 Axes>"
      ]
     },
     "metadata": {},
     "output_type": "display_data"
    }
   ],
   "source": [
    "predpro = clf.predict_proba(xtest_s)\n",
    "\n",
    "plt.bar(np.arange(len(predpro)),predpro[:,0],label='p0')\n",
    "plt.bar(np.arange(len(predpro)),predpro[:,1],label='p1',bottom=predpro[:,0])"
   ]
  },
  {
   "cell_type": "code",
   "execution_count": 45,
   "metadata": {},
   "outputs": [
    {
     "name": "stdout",
     "output_type": "stream",
     "text": [
      "[[50  0]\n",
      " [ 0 50]]\n"
     ]
    },
    {
     "data": {
      "image/png": "[encoded data removed]",
      "text/plain": [
       "<Figure size 432x432 with 2 Axes>"
      ]
     },
     "metadata": {},
     "output_type": "display_data"
    }
   ],
   "source": [
    "plot_confusion_matrix(ytest_s, ypred)"
   ]
  }
 ],
 "metadata": {
  "interpreter": {
   "hash": "d31eb06d7a1749bf55b485af37745091f2bec8abdcbfee2a805ffb76b25b5350"
  },
  "kernelspec": {
   "display_name": "Python 3.7.1 32-bit",
   "name": "python3"
  },
  "language_info": {
   "codemirror_mode": {
    "name": "ipython",
    "version": 3
   },
   "file_extension": ".py",
   "mimetype": "text/x-python",
   "name": "python",
   "nbconvert_exporter": "python",
   "pygments_lexer": "ipython3",
   "version": "3.7.1"
  },
  "orig_nbformat": 4
 },
 "nbformat": 4,
 "nbformat_minor": 2
}
